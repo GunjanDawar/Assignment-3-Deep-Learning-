{
 "cells": [
  {
   "cell_type": "markdown",
   "metadata": {},
   "source": [
    "### Classifying the dataset using a Convolutional Neural Network (CNN) architecture"
   ]
  },
  {
   "cell_type": "code",
   "execution_count": 1,
   "metadata": {},
   "outputs": [
    {
     "name": "stderr",
     "output_type": "stream",
     "text": [
      "Using TensorFlow backend.\n"
     ]
    }
   ],
   "source": [
    "import keras\n",
    "import numpy as np\n",
    "import pandas as pd\n",
    "import matplotlib\n",
    "import matplotlib.pyplot as plt\n",
    "from keras.models import Sequential\n",
    "from keras.layers import Dense,Dropout,Flatten,Activation,Conv2D,MaxPooling2D\n",
    "from keras import backend as K\n",
    "import pickle"
   ]
  },
  {
   "cell_type": "code",
   "execution_count": 2,
   "metadata": {},
   "outputs": [],
   "source": [
    "with open(\"trainX.pickle\",\"rb\") as f:\n",
    "    X=pickle.load(f)\n",
    "    \n",
    "with open(\"trainY.pickle\",\"rb\") as f:\n",
    "    Y=pickle.load(f)\n",
    "    \n",
    "with open(\"testX.pickle\",\"rb\") as f:\n",
    "    testX=pickle.load(f)\n"
   ]
  },
  {
   "cell_type": "markdown",
   "metadata": {},
   "source": [
    "### Visualize the data"
   ]
  },
  {
   "cell_type": "code",
   "execution_count": 3,
   "metadata": {},
   "outputs": [
    {
     "data": {
      "text/plain": [
       "<matplotlib.image.AxesImage at 0x22d88cc6470>"
      ]
     },
     "execution_count": 3,
     "metadata": {},
     "output_type": "execute_result"
    },
    {
     "data": {
      "image/png": "[encoded data removed]",
      "text/plain": [
       "<Figure size 288x288 with 1 Axes>"
      ]
     },
     "metadata": {
      "needs_background": "light"
     },
     "output_type": "display_data"
    }
   ],
   "source": [
    "#showing one of the images from the training dataset\n",
    "plt.matshow(X[9])"
   ]
  },
  {
   "cell_type": "code",
   "execution_count": 4,
   "metadata": {},
   "outputs": [
    {
     "data": {
      "text/plain": [
       "9"
      ]
     },
     "execution_count": 4,
     "metadata": {},
     "output_type": "execute_result"
    }
   ],
   "source": [
    "Y[0]"
   ]
  },
  {
   "cell_type": "code",
   "execution_count": 5,
   "metadata": {},
   "outputs": [
    {
     "data": {
      "text/plain": [
       "array([[  0,   0,   0,   0,   0,   0,   0,   0,   0,   0,   0,   0,   0,\n",
       "          0,   0,   0,   0,   0,   0,   0,   0,   0,   0,   0,   0,   0,\n",
       "          0,   0],\n",
       "       [  0,   0,   0,   0,   0,   0,   0,   0,   0,   0,   0,   0,   0,\n",
       "          0,   0,   0,   0,   0,   0,   0,   0,   0,   0,   0,   0,   0,\n",
       "          0,   0],\n",
       "       [  0,   0,   0,   0,   0,   0,   0,   0,   0,   0,   0,   0,   0,\n",
       "          0,   0,   0,   0,   0,   0,   0,   0,   0,   0,   0,   0,   0,\n",
       "          0,   0],\n",
       "       [  0,   0,   0,   0,   0,   0,   0,   0,   0,   0,   0,   0,   0,\n",
       "          0,   0,   0,   0,   0,   0,   0,   0,   0,   0,   0,   0,   0,\n",
       "          0,   0],\n",
       "       [  0,   0,   0,   0,   0,   0,   0,   0,   0,   0,   0,   0,   0,\n",
       "          0,   0,   0,   0,   0,   0,   0,   0,   0,   0,   0,   0,   0,\n",
       "          0,   0],\n",
       "       [  0,   0,   0,   0,   0,   0,   0,   0,   0,   0,   0,   0,   0,\n",
       "          0,   0,   0,   0,   0,   0,   0,   0,   0,   0,   0,   0,   0,\n",
       "          0,   0],\n",
       "       [  0,   0,   0,   0,   0,   0,   0,   0,   0,   0,   0,   0,   0,\n",
       "          0,   0,   0,   0,   0,   0,   0,   0,   0,   0,   0,   0,   0,\n",
       "          0,   0],\n",
       "       [  0,   0,   0,   0,   0,   0,   0,   0,   0,   0,   0,   0,   0,\n",
       "          0,   0,   0,   0,   0,   0,   3,   1,   0,   0,   7,   0,  37,\n",
       "          0,   0],\n",
       "       [  0,   0,   0,   0,   0,   0,   0,   0,   0,   0,   0,   0,   0,\n",
       "          1,   2,   0,  27,  84,  11,   0,   0,   0,   0,   0,   0, 119,\n",
       "          0,   0],\n",
       "       [  0,   0,   0,   0,   0,   0,   0,   0,   0,   0,   0,   0,   0,\n",
       "          1,   0,   0,  88, 143, 110,   0,   0,   0,   0,  22,  93, 106,\n",
       "          0,   0],\n",
       "       [  0,   0,   0,   0,   0,   0,   0,   0,   0,   0,   0,   0,   0,\n",
       "          4,   0,  53, 129, 120, 147, 175, 157, 166, 135, 154, 168, 140,\n",
       "          0,   0],\n",
       "       [  0,   0,   0,   0,   0,   0,   0,   0,   0,   0,   0,   0,   2,\n",
       "          0,  11, 137, 130, 128, 160, 176, 159, 167, 178, 149, 151, 144,\n",
       "          0,   0],\n",
       "       [  0,   0,   0,   0,   0,   0,   1,   0,   2,   1,   0,   3,   0,\n",
       "          0, 115, 114, 106, 137, 168, 153, 156, 165, 167, 143, 157, 158,\n",
       "         11,   0],\n",
       "       [  0,   0,   0,   0,   1,   0,   0,   0,   0,   0,   3,   0,   0,\n",
       "         89, 139,  90,  94, 153, 149, 131, 151, 169, 172, 143, 159, 169,\n",
       "         48,   0],\n",
       "       [  0,   0,   0,   0,   0,   0,   2,   4,   1,   0,   0,   0,  98,\n",
       "        136, 110, 109, 110, 162, 135, 144, 149, 159, 167, 144, 158, 169,\n",
       "        119,   0],\n",
       "       [  0,   0,   2,   2,   1,   2,   0,   0,   0,   0,  26, 108, 117,\n",
       "         99, 111, 117, 136, 156, 134, 154, 154, 156, 160, 141, 147, 156,\n",
       "        178,   0],\n",
       "       [  3,   0,   0,   0,   0,   0,   0,  21,  53,  92, 117, 111, 103,\n",
       "        115, 129, 134, 143, 154, 165, 170, 154, 151, 154, 143, 138, 150,\n",
       "        165,  43],\n",
       "       [  0,   0,  23,  54,  65,  76,  85, 118, 128, 123, 111, 113, 118,\n",
       "        127, 125, 139, 133, 136, 160, 140, 155, 161, 144, 155, 172, 161,\n",
       "        189,  62],\n",
       "       [  0,  68,  94,  90, 111, 114, 111, 114, 115, 127, 135, 136, 143,\n",
       "        126, 127, 151, 154, 143, 148, 125, 162, 162, 144, 138, 153, 162,\n",
       "        196,  58],\n",
       "       [ 70, 169, 129, 104,  98, 100,  94,  97,  98, 102, 108, 106, 119,\n",
       "        120, 129, 149, 156, 167, 190, 190, 196, 198, 198, 187, 197, 189,\n",
       "        184,  36],\n",
       "       [ 16, 126, 171, 188, 188, 184, 171, 153, 135, 120, 126, 127, 146,\n",
       "        185, 195, 209, 208, 255, 209, 177, 245, 252, 251, 251, 247, 220,\n",
       "        206,  49],\n",
       "       [  0,   0,   0,  12,  67, 106, 164, 185, 199, 210, 211, 210, 208,\n",
       "        190, 150,  82,   8,   0,   0,   0, 178, 208, 188, 175, 162, 158,\n",
       "        151,  11],\n",
       "       [  0,   0,   0,   0,   0,   0,   0,   0,   0,   0,   0,   0,   0,\n",
       "          0,   0,   0,   0,   0,   0,   0,   0,   0,   0,   0,   0,   0,\n",
       "          0,   0],\n",
       "       [  0,   0,   0,   0,   0,   0,   0,   0,   0,   0,   0,   0,   0,\n",
       "          0,   0,   0,   0,   0,   0,   0,   0,   0,   0,   0,   0,   0,\n",
       "          0,   0],\n",
       "       [  0,   0,   0,   0,   0,   0,   0,   0,   0,   0,   0,   0,   0,\n",
       "          0,   0,   0,   0,   0,   0,   0,   0,   0,   0,   0,   0,   0,\n",
       "          0,   0],\n",
       "       [  0,   0,   0,   0,   0,   0,   0,   0,   0,   0,   0,   0,   0,\n",
       "          0,   0,   0,   0,   0,   0,   0,   0,   0,   0,   0,   0,   0,\n",
       "          0,   0],\n",
       "       [  0,   0,   0,   0,   0,   0,   0,   0,   0,   0,   0,   0,   0,\n",
       "          0,   0,   0,   0,   0,   0,   0,   0,   0,   0,   0,   0,   0,\n",
       "          0,   0],\n",
       "       [  0,   0,   0,   0,   0,   0,   0,   0,   0,   0,   0,   0,   0,\n",
       "          0,   0,   0,   0,   0,   0,   0,   0,   0,   0,   0,   0,   0,\n",
       "          0,   0]], dtype=uint8)"
      ]
     },
     "execution_count": 5,
     "metadata": {},
     "output_type": "execute_result"
    }
   ],
   "source": [
    "testX[0]"
   ]
  },
  {
   "cell_type": "code",
   "execution_count": 6,
   "metadata": {},
   "outputs": [
    {
     "data": {
      "text/plain": [
       "array([[  0,   0,   0,   0,   1,   0,   0,   0,   0,  22,  88, 188, 172,\n",
       "        132, 125, 141, 199, 143,   9,   0,   0,   0,   1,   0,   0,   0,\n",
       "          0,   0],\n",
       "       [  0,   0,   0,   1,   0,   0,  20, 131, 199, 206, 196, 202, 242,\n",
       "        255, 255, 250, 222, 197, 206, 188, 126,  17,   0,   0,   0,   0,\n",
       "          0,   0],\n",
       "       [  0,   0,   0,   1,   0,  35, 214, 191, 183, 178, 175, 168, 150,\n",
       "        162, 159, 152, 158, 179, 183, 189, 195, 185,  82,   0,   0,   0,\n",
       "          0,   0],\n",
       "       [  0,   0,   0,   0,   0, 170, 190, 172, 177, 176, 171, 169, 162,\n",
       "        155, 148, 154, 169, 174, 175, 175, 177, 183, 188,  12,   0,   0,\n",
       "          0,   0],\n",
       "       [  0,   0,   0,   0,  25, 194, 180, 178, 174, 184, 187, 189, 187,\n",
       "        184, 181, 189, 200, 197, 193, 190, 178, 175, 194,  90,   0,   0,\n",
       "          0,   0],\n",
       "       [  0,   0,   0,   0,  42, 218, 191, 197, 208, 204, 211, 209, 210,\n",
       "        212, 211, 214, 215, 213, 214, 211, 211, 191, 200, 158,   0,   0,\n",
       "          0,   0],\n",
       "       [  0,   0,   0,   0,  88, 221, 215, 217, 219, 211, 185, 150, 118,\n",
       "        107,  99,  88,  83,  90, 135, 212, 203, 207, 219, 169,   0,   0,\n",
       "          0,   0],\n",
       "       [  0,   0,   0,   0,   0,  27, 118, 162,  40,   0,   0,   0,  10,\n",
       "         19,  28,  39,  47,  36,   0,   0, 203, 230, 220, 203,   0,   0,\n",
       "          0,   0],\n",
       "       [  0,   0,   0,   0, 138, 136,  71,  69,  54, 216, 217, 203, 184,\n",
       "        168, 163, 162, 163, 178, 221, 186,  38,  26,   7,   0,   0,   0,\n",
       "          0,   0],\n",
       "       [  0,   0,   0,   0,  67, 134, 154, 224, 129,  66,  81, 117, 129,\n",
       "        128, 132, 137, 131, 129,  86,  73, 157, 151, 134, 216,  18,   0,\n",
       "          0,   0],\n",
       "       [  0,   0,   0,   0, 203, 198, 172, 183, 206, 255, 255, 250, 243,\n",
       "        240, 239, 235, 238, 244, 255, 238, 184, 160,  86,  98,   0,   0,\n",
       "          0,   0],\n",
       "       [  0,   0,   0,   0, 122, 188, 224, 151, 105, 127,  97, 100, 105,\n",
       "        114, 117, 117, 113, 103,  98, 111, 142, 254, 191, 255,  49,   0,\n",
       "          0,   0],\n",
       "       [  0,   0,   0,   0, 163, 179, 200,  95, 154, 198, 197, 200, 200,\n",
       "        198, 197, 198, 199, 202, 200, 176,  86, 206, 157, 162,  10,   0,\n",
       "          0,   0],\n",
       "       [  0,   0,   0,   0, 197, 201, 229,  71, 144, 194, 181, 183, 179,\n",
       "        182, 180, 179, 180, 190, 185, 197,  76, 219, 185, 201,  34,   0,\n",
       "          0,   0],\n",
       "       [  0,   0,   0,   0, 199, 193, 226,  58, 154, 192, 184, 187, 184,\n",
       "        186, 184, 185, 183, 192, 191, 200,  56, 219, 203, 207,  60,   0,\n",
       "          0,   0],\n",
       "       [  0,   0,   0,   0, 201, 194, 224,  41, 163, 190, 186, 186, 184,\n",
       "        185, 183, 185, 178, 190, 194, 202,  33, 211, 200, 206,  73,   0,\n",
       "          0,   0],\n",
       "       [  0,   0,   0,   0, 201, 197, 222,  17, 172, 190, 186, 187, 182,\n",
       "        186, 185, 187, 180, 187, 193, 202,  26, 212, 202, 203,  76,   0,\n",
       "          0,   0],\n",
       "       [  0,   0,   0,   0, 200, 197, 223,   0, 177, 189, 184, 185, 178,\n",
       "        184, 183, 184, 180, 183, 189, 203,  35, 196, 203, 203,  84,   0,\n",
       "          0,   0],\n",
       "       [  0,   0,   0,   0, 200, 197, 223,   0, 185, 187, 185, 187, 180,\n",
       "        184, 182, 183, 178, 182, 183, 205,  44, 159, 207, 201,  85,   0,\n",
       "          0,   0],\n",
       "       [  0,   0,   0,   0, 187, 198, 225,   0, 194, 188, 184, 185, 180,\n",
       "        183, 183, 184, 181, 181, 177, 206,  46, 129, 211, 200,  88,   0,\n",
       "          0,   0],\n",
       "       [  0,   0,   0,   6, 186, 200, 211,   0, 199, 189, 184, 184, 185,\n",
       "        182, 183, 184, 185, 182, 175, 205,  50,  97, 216, 197,  93,   0,\n",
       "          0,   0],\n",
       "       [  0,   0,   0,   5, 185, 204, 184,   0, 202, 188, 182, 182, 183,\n",
       "        183, 184, 182, 180, 182, 174, 202,  63,  59, 220, 196,  94,   0,\n",
       "          0,   0],\n",
       "       [  0,   0,   0,   5, 184, 206, 157,   0, 204, 187, 187, 189, 192,\n",
       "        190, 190, 191, 190, 187, 183, 202,  78,  35, 222, 197,  95,   0,\n",
       "          0,   0],\n",
       "       [  0,   0,   0,   5, 183, 208, 127,   0, 197, 166, 153, 149, 149,\n",
       "        146, 148, 149, 150, 151, 158, 191,  90,   8, 223, 195,  99,   0,\n",
       "          0,   0],\n",
       "       [  0,   0,   0,   6, 184, 208, 114,   0, 204, 173, 161, 180, 176,\n",
       "        172, 173, 173, 174, 176, 162, 202, 115,   0, 229, 199, 105,   0,\n",
       "          0,   0],\n",
       "       [  0,   0,   0,   9, 178, 204, 115,   0, 121, 135, 114, 117, 114,\n",
       "        114, 117, 118, 119, 117, 113, 147,  63,   0, 225, 196, 107,   0,\n",
       "          0,   0],\n",
       "       [  0,   0,   0,  18, 180, 206, 131,   0,   0,   0,   0,   0,   0,\n",
       "          0,   0,   0,   0,   0,   0,   0,   0,   0, 224, 197, 123,   0,\n",
       "          0,   0],\n",
       "       [  0,   0,   0,   0, 141, 151,  76,   0,   1,   1,   0,   0,   0,\n",
       "          0,   0,   0,   0,   0,   0,   0,   0,   0, 133, 167,  73,   0,\n",
       "          0,   0]], dtype=uint8)"
      ]
     },
     "execution_count": 6,
     "metadata": {},
     "output_type": "execute_result"
    }
   ],
   "source": [
    "X[5]"
   ]
  },
  {
   "cell_type": "code",
   "execution_count": 7,
   "metadata": {},
   "outputs": [
    {
     "data": {
      "text/plain": [
       "<matplotlib.image.AxesImage at 0x22d875b5a20>"
      ]
     },
     "execution_count": 7,
     "metadata": {},
     "output_type": "execute_result"
    },
    {
     "data": {
      "image/png": "[encoded data removed]",
      "text/plain": [
       "<Figure size 288x288 with 1 Axes>"
      ]
     },
     "metadata": {
      "needs_background": "light"
     },
     "output_type": "display_data"
    }
   ],
   "source": [
    "plt.matshow(testX[9999])"
   ]
  },
  {
   "cell_type": "code",
   "execution_count": 8,
   "metadata": {},
   "outputs": [
    {
     "name": "stdout",
     "output_type": "stream",
     "text": [
      "(60000, 28, 28)\n",
      "(60000,)\n",
      "(10000, 28, 28)\n"
     ]
    }
   ],
   "source": [
    "print(X.shape)\n",
    "print(Y.shape)\n",
    "print(testX.shape)"
   ]
  },
  {
   "cell_type": "markdown",
   "metadata": {},
   "source": [
    "## Splitting the data into 4:1:1 ratio"
   ]
  },
  {
   "cell_type": "code",
   "execution_count": 9,
   "metadata": {},
   "outputs": [
    {
     "name": "stdout",
     "output_type": "stream",
     "text": [
      "(40000, 28, 28)\n",
      "(10000, 28, 28)\n",
      "(10000, 28, 28)\n"
     ]
    }
   ],
   "source": [
    "#Splitting the training dataset into training, validation and testing dataset in 8:1:1 split\n",
    "X_train = X[:40000]\n",
    "X_val = X[40000:50000]\n",
    "X_test = X[50000:]\n",
    "\n",
    "Y_train = Y[:40000]\n",
    "Y_val = Y[40000:50000]\n",
    "Y_test = Y[50000:]\n",
    "\n",
    "\n",
    "print(X_train.shape)\n",
    "print(X_val.shape)\n",
    "print(X_test.shape)"
   ]
  },
  {
   "cell_type": "code",
   "execution_count": 10,
   "metadata": {},
   "outputs": [],
   "source": [
    "batch_size=128\n",
    "num_classes=10\n",
    "epochs=10"
   ]
  },
  {
   "cell_type": "code",
   "execution_count": 11,
   "metadata": {},
   "outputs": [
    {
     "name": "stdout",
     "output_type": "stream",
     "text": [
      "x train shape (40000, 28, 28)\n",
      "40000 train samples\n",
      "10000 validate samples\n",
      "10000 test samples\n"
     ]
    }
   ],
   "source": [
    "X_train=X_train.astype('float32')\n",
    "X_val=X_val.astype('float32')\n",
    "X_test=X_test.astype('float32')\n",
    "\n",
    "# Data normalization\n",
    "X_train/=255  \n",
    "X_val/=255\n",
    "X_test/=255\n",
    "\n",
    "print('x train shape',X_train.shape)\n",
    "print(X_train.shape[0],'train samples')\n",
    "print(X_val.shape[0],'validate samples')\n",
    "print(X_test.shape[0],'test samples')\n",
    "\n",
    "\n",
    "Y_train=keras.utils.to_categorical(Y_train,num_classes)\n",
    "Y_val=keras.utils.to_categorical(Y_val,num_classes)\n",
    "Y_test=keras.utils.to_categorical(Y_test,num_classes)"
   ]
  },
  {
   "cell_type": "code",
   "execution_count": 12,
   "metadata": {},
   "outputs": [],
   "source": [
    "X_train = np.reshape(X_train,(40000,28,28,1))\n",
    "X_val = np.reshape(X_val,(10000,28,28,1))\n",
    "X_test = np.reshape(X_test,(10000,28,28,1))"
   ]
  },
  {
   "cell_type": "code",
   "execution_count": 13,
   "metadata": {},
   "outputs": [
    {
     "data": {
      "text/plain": [
       "(40000, 28, 28, 1)"
      ]
     },
     "execution_count": 13,
     "metadata": {},
     "output_type": "execute_result"
    }
   ],
   "source": [
    "X_train.shape"
   ]
  },
  {
   "cell_type": "code",
   "execution_count": 14,
   "metadata": {
    "scrolled": true
   },
   "outputs": [
    {
     "name": "stderr",
     "output_type": "stream",
     "text": [
      "WARNING: Logging before flag parsing goes to stderr.\n",
      "W0623 23:35:27.460180  7360 deprecation_wrapper.py:119] From c:\\users\\gunjan\\appdata\\local\\programs\\python\\python36\\lib\\site-packages\\keras\\backend\\tensorflow_backend.py:74: The name tf.get_default_graph is deprecated. Please use tf.compat.v1.get_default_graph instead.\n",
      "\n",
      "W0623 23:35:27.815894  7360 deprecation_wrapper.py:119] From c:\\users\\gunjan\\appdata\\local\\programs\\python\\python36\\lib\\site-packages\\keras\\backend\\tensorflow_backend.py:517: The name tf.placeholder is deprecated. Please use tf.compat.v1.placeholder instead.\n",
      "\n",
      "W0623 23:35:27.827895  7360 deprecation_wrapper.py:119] From c:\\users\\gunjan\\appdata\\local\\programs\\python\\python36\\lib\\site-packages\\keras\\backend\\tensorflow_backend.py:4138: The name tf.random_uniform is deprecated. Please use tf.random.uniform instead.\n",
      "\n",
      "W0623 23:35:27.899894  7360 deprecation_wrapper.py:119] From c:\\users\\gunjan\\appdata\\local\\programs\\python\\python36\\lib\\site-packages\\keras\\backend\\tensorflow_backend.py:3976: The name tf.nn.max_pool is deprecated. Please use tf.nn.max_pool2d instead.\n",
      "\n",
      "W0623 23:35:28.063897  7360 deprecation_wrapper.py:119] From c:\\users\\gunjan\\appdata\\local\\programs\\python\\python36\\lib\\site-packages\\keras\\optimizers.py:790: The name tf.train.Optimizer is deprecated. Please use tf.compat.v1.train.Optimizer instead.\n",
      "\n",
      "W0623 23:35:28.127906  7360 deprecation_wrapper.py:119] From c:\\users\\gunjan\\appdata\\local\\programs\\python\\python36\\lib\\site-packages\\keras\\backend\\tensorflow_backend.py:3295: The name tf.log is deprecated. Please use tf.math.log instead.\n",
      "\n"
     ]
    },
    {
     "name": "stdout",
     "output_type": "stream",
     "text": [
      "_________________________________________________________________\n",
      "Layer (type)                 Output Shape              Param #   \n",
      "=================================================================\n",
      "conv2d_1 (Conv2D)            (None, 28, 28, 64)        640       \n",
      "_________________________________________________________________\n",
      "max_pooling2d_1 (MaxPooling2 (None, 14, 14, 64)        0         \n",
      "_________________________________________________________________\n",
      "conv2d_2 (Conv2D)            (None, 14, 14, 32)        18464     \n",
      "_________________________________________________________________\n",
      "max_pooling2d_2 (MaxPooling2 (None, 7, 7, 32)          0         \n",
      "_________________________________________________________________\n",
      "conv2d_3 (Conv2D)            (None, 7, 7, 16)          8208      \n",
      "_________________________________________________________________\n",
      "max_pooling2d_3 (MaxPooling2 (None, 3, 3, 16)          0         \n",
      "_________________________________________________________________\n",
      "flatten_1 (Flatten)          (None, 144)               0         \n",
      "_________________________________________________________________\n",
      "dense_1 (Dense)              (None, 225)               32625     \n",
      "_________________________________________________________________\n",
      "dense_2 (Dense)              (None, 10)                2260      \n",
      "_________________________________________________________________\n",
      "dense_3 (Dense)              (None, 10)                110       \n",
      "_________________________________________________________________\n",
      "activation_1 (Activation)    (None, 10)                0         \n",
      "=================================================================\n",
      "Total params: 62,307\n",
      "Trainable params: 62,307\n",
      "Non-trainable params: 0\n",
      "_________________________________________________________________\n"
     ]
    }
   ],
   "source": [
    "model = Sequential()\n",
    "\n",
    "#defining input shape in the first layer of the neural network\n",
    "model.add(Conv2D(kernel_size=3 , filters=64, input_shape=(28,28,1), activation='relu', padding='same'))\n",
    "model.add(MaxPooling2D(pool_size=(2,2)))\n",
    "\n",
    "model.add(Conv2D(kernel_size=3, filters=32, activation='relu', padding='same')) \n",
    "model.add(MaxPooling2D(pool_size=(2,2)))\n",
    "\n",
    "model.add(Conv2D(kernel_size=4, filters=16, activation='relu', padding='same'))\n",
    "model.add(MaxPooling2D(pool_size=(2,2)))\n",
    "\n",
    "model.add(Flatten())\n",
    "\n",
    "model.add(Dense(225, activation='relu')) \n",
    "model.add(Dense(10, activation='relu')) \n",
    "model.add(Dense(10))\n",
    "model.add(Activation('softmax'))\n",
    "model.summary()\n",
    "\n",
    "#compile the model\n",
    "model.compile(loss='categorical_crossentropy',\n",
    "              optimizer='adam',\n",
    "              metrics=['accuracy'])"
   ]
  },
  {
   "cell_type": "code",
   "execution_count": 15,
   "metadata": {
    "scrolled": true
   },
   "outputs": [
    {
     "name": "stderr",
     "output_type": "stream",
     "text": [
      "W0623 23:36:31.437452  7360 deprecation.py:323] From c:\\users\\gunjan\\appdata\\local\\programs\\python\\python36\\lib\\site-packages\\tensorflow\\python\\ops\\math_grad.py:1250: add_dispatch_support.<locals>.wrapper (from tensorflow.python.ops.array_ops) is deprecated and will be removed in a future version.\n",
      "Instructions for updating:\n",
      "Use tf.where in 2.0, which has the same broadcast rule as np.where\n",
      "W0623 23:36:31.565466  7360 deprecation_wrapper.py:119] From c:\\users\\gunjan\\appdata\\local\\programs\\python\\python36\\lib\\site-packages\\keras\\backend\\tensorflow_backend.py:986: The name tf.assign_add is deprecated. Please use tf.compat.v1.assign_add instead.\n",
      "\n"
     ]
    },
    {
     "name": "stdout",
     "output_type": "stream",
     "text": [
      "Train on 40000 samples, validate on 10000 samples\n",
      "Epoch 1/10\n",
      "40000/40000 [==============================] - 103s 3ms/step - loss: 0.8478 - acc: 0.6932 - val_loss: 0.5369 - val_acc: 0.7968\n",
      "Epoch 2/10\n",
      "40000/40000 [==============================] - 102s 3ms/step - loss: 0.4611 - acc: 0.8357 - val_loss: 0.4315 - val_acc: 0.8435\n",
      "Epoch 3/10\n",
      "40000/40000 [==============================] - 104s 3ms/step - loss: 0.3850 - acc: 0.8620 - val_loss: 0.4490 - val_acc: 0.8385\n",
      "Epoch 4/10\n",
      "40000/40000 [==============================] - 96s 2ms/step - loss: 0.3453 - acc: 0.8769 - val_loss: 0.3314 - val_acc: 0.8863\n",
      "Epoch 5/10\n",
      "40000/40000 [==============================] - 97s 2ms/step - loss: 0.3184 - acc: 0.8841 - val_loss: 0.3181 - val_acc: 0.8842\n",
      "Epoch 6/10\n",
      "40000/40000 [==============================] - 97s 2ms/step - loss: 0.2921 - acc: 0.8946 - val_loss: 0.2972 - val_acc: 0.8964\n",
      "Epoch 7/10\n",
      "40000/40000 [==============================] - 95s 2ms/step - loss: 0.2762 - acc: 0.8999 - val_loss: 0.3096 - val_acc: 0.8899\n",
      "Epoch 8/10\n",
      "40000/40000 [==============================] - 96s 2ms/step - loss: 0.2642 - acc: 0.9045 - val_loss: 0.2881 - val_acc: 0.8981\n",
      "Epoch 9/10\n",
      "40000/40000 [==============================] - 96s 2ms/step - loss: 0.2499 - acc: 0.9090 - val_loss: 0.2809 - val_acc: 0.8977\n",
      "Epoch 10/10\n",
      "40000/40000 [==============================] - 96s 2ms/step - loss: 0.2354 - acc: 0.9139 - val_loss: 0.3188 - val_acc: 0.8912\n"
     ]
    },
    {
     "data": {
      "text/plain": [
       "<keras.callbacks.History at 0x22d8c3b1940>"
      ]
     },
     "execution_count": 15,
     "metadata": {},
     "output_type": "execute_result"
    }
   ],
   "source": [
    "#train the model\n",
    "model.fit(X_train,Y_train,\n",
    "         batch_size = batch_size,\n",
    "         epochs = epochs,\n",
    "         verbose = 1,\n",
    "         validation_data = (X_val,Y_val))"
   ]
  },
  {
   "cell_type": "code",
   "execution_count": 16,
   "metadata": {},
   "outputs": [
    {
     "name": "stdout",
     "output_type": "stream",
     "text": [
      "Test loss:  0.3065427252292633\n",
      "Test accuracy:  0.892\n"
     ]
    }
   ],
   "source": [
    "#test accuracy\n",
    "score = model.evaluate(X_test,Y_test,verbose = 0)\n",
    "print('Test loss: ',score[0])\n",
    "print('Test accuracy: ',score[1])"
   ]
  },
  {
   "cell_type": "code",
   "execution_count": null,
   "metadata": {},
   "outputs": [],
   "source": []
  },
  {
   "cell_type": "markdown",
   "metadata": {},
   "source": [
    "## Splitting the data into 8:1:1 ratio"
   ]
  },
  {
   "cell_type": "code",
   "execution_count": 17,
   "metadata": {},
   "outputs": [
    {
     "name": "stdout",
     "output_type": "stream",
     "text": [
      "(48000, 28, 28)\n",
      "(6000, 28, 28)\n",
      "(6000, 28, 28)\n"
     ]
    }
   ],
   "source": [
    "X_train = X[:48000]\n",
    "X_val = X[48000:54000]\n",
    "X_test = X[54000:]\n",
    "\n",
    "Y_train = Y[:48000]\n",
    "Y_val = Y[48000:54000]\n",
    "Y_test = Y[54000:]\n",
    "\n",
    "print(X_train.shape)\n",
    "print(X_val.shape)\n",
    "print(X_test.shape)"
   ]
  },
  {
   "cell_type": "code",
   "execution_count": 18,
   "metadata": {},
   "outputs": [
    {
     "name": "stdout",
     "output_type": "stream",
     "text": [
      "X_train shape: (48000, 28, 28)\n",
      "48000 train samples\n",
      "6000 validation samples\n",
      "6000 test samples\n"
     ]
    }
   ],
   "source": [
    "batch_size  = 128\n",
    "num_classes = 10\n",
    "epochs = 10\n",
    "\n",
    "X_train = X_train.astype('float32')\n",
    "X_test = X_test.astype('float32')\n",
    "X_val = X_val.astype('float32')\n",
    "\n",
    "X_train /= 255 \n",
    "X_val /= 255\n",
    "X_test /= 255\n",
    "\n",
    "print('X_train shape:', X_train.shape)\n",
    "print(X_train.shape[0],'train samples')\n",
    "print(X_val.shape[0],'validation samples')\n",
    "print(X_test.shape[0],'test samples')\n",
    "\n",
    "Y_train = keras.utils.to_categorical(Y_train, num_classes)\n",
    "Y_val = keras.utils.to_categorical(Y_val,num_classes)\n",
    "Y_test = keras.utils.to_categorical(Y_test,num_classes)"
   ]
  },
  {
   "cell_type": "code",
   "execution_count": 19,
   "metadata": {},
   "outputs": [],
   "source": [
    "X_train = np.reshape(X_train,(48000,28,28,1))\n",
    "X_val = np.reshape(X_val,(6000,28,28,1))\n",
    "X_test = np.reshape(X_test,(6000,28,28,1))"
   ]
  },
  {
   "cell_type": "code",
   "execution_count": 20,
   "metadata": {},
   "outputs": [
    {
     "data": {
      "text/plain": [
       "(48000, 28, 28, 1)"
      ]
     },
     "execution_count": 20,
     "metadata": {},
     "output_type": "execute_result"
    }
   ],
   "source": [
    " X_train.shape"
   ]
  },
  {
   "cell_type": "code",
   "execution_count": 23,
   "metadata": {},
   "outputs": [
    {
     "name": "stdout",
     "output_type": "stream",
     "text": [
      "_________________________________________________________________\n",
      "Layer (type)                 Output Shape              Param #   \n",
      "=================================================================\n",
      "conv2d_7 (Conv2D)            (None, 28, 28, 64)        640       \n",
      "_________________________________________________________________\n",
      "max_pooling2d_7 (MaxPooling2 (None, 14, 14, 64)        0         \n",
      "_________________________________________________________________\n",
      "conv2d_8 (Conv2D)            (None, 14, 14, 32)        18464     \n",
      "_________________________________________________________________\n",
      "max_pooling2d_8 (MaxPooling2 (None, 7, 7, 32)          0         \n",
      "_________________________________________________________________\n",
      "conv2d_9 (Conv2D)            (None, 7, 7, 16)          8208      \n",
      "_________________________________________________________________\n",
      "max_pooling2d_9 (MaxPooling2 (None, 3, 3, 16)          0         \n",
      "_________________________________________________________________\n",
      "flatten_3 (Flatten)          (None, 144)               0         \n",
      "_________________________________________________________________\n",
      "dense_7 (Dense)              (None, 200)               29000     \n",
      "_________________________________________________________________\n",
      "dense_8 (Dense)              (None, 30)                6030      \n",
      "_________________________________________________________________\n",
      "dense_9 (Dense)              (None, 10)                310       \n",
      "_________________________________________________________________\n",
      "activation_3 (Activation)    (None, 10)                0         \n",
      "=================================================================\n",
      "Total params: 62,652\n",
      "Trainable params: 62,652\n",
      "Non-trainable params: 0\n",
      "_________________________________________________________________\n"
     ]
    }
   ],
   "source": [
    "model = Sequential()\n",
    "\n",
    "model.add(Conv2D(kernel_size=3 , filters=64, input_shape=(28,28,1), activation='relu', padding='same'))\n",
    "model.add(MaxPooling2D(pool_size=(2,2)))\n",
    "\n",
    "model.add(Conv2D(kernel_size=3, filters=32, activation='relu', padding='same')) \n",
    "model.add(MaxPooling2D(pool_size=(2,2)))\n",
    "\n",
    "model.add(Conv2D(kernel_size=4, filters=16, activation='relu', padding='same'))\n",
    "model.add(MaxPooling2D(pool_size=(2,2)))\n",
    "\n",
    "model.add(Flatten())\n",
    "\n",
    "model.add(Dense(200, activation='relu')) \n",
    "\n",
    "model.add(Dense(30, activation='relu')) \n",
    "\n",
    "model.add(Dense(10))\n",
    "\n",
    "model.add(Activation('softmax'))\n",
    "\n",
    "model.summary()\n",
    "\n",
    "model.compile(loss=keras.losses.categorical_crossentropy,\n",
    "              optimizer=keras.optimizers.Adadelta(),\n",
    "              metrics=['accuracy'])\n",
    "\n",
    "X_train.reshape([-1,28,28,1])\n",
    "testX = testX.reshape(-1,28, 28, 1)"
   ]
  },
  {
   "cell_type": "code",
   "execution_count": 24,
   "metadata": {
    "scrolled": true
   },
   "outputs": [
    {
     "name": "stdout",
     "output_type": "stream",
     "text": [
      "Train on 48000 samples, validate on 6000 samples\n",
      "Epoch 1/10\n",
      "48000/48000 [==============================] - 114s 2ms/step - loss: 0.7524 - acc: 0.7176 - val_loss: 0.4156 - val_acc: 0.8507\n",
      "Epoch 2/10\n",
      "48000/48000 [==============================] - 113s 2ms/step - loss: 0.3920 - acc: 0.8569 - val_loss: 0.3471 - val_acc: 0.8735\n",
      "Epoch 3/10\n",
      "48000/48000 [==============================] - 111s 2ms/step - loss: 0.3318 - acc: 0.8768 - val_loss: 0.3434 - val_acc: 0.8742\n",
      "Epoch 4/10\n",
      "48000/48000 [==============================] - 112s 2ms/step - loss: 0.2970 - acc: 0.8903 - val_loss: 0.3031 - val_acc: 0.8888\n",
      "Epoch 5/10\n",
      "48000/48000 [==============================] - 111s 2ms/step - loss: 0.2747 - acc: 0.8972 - val_loss: 0.2966 - val_acc: 0.8958\n",
      "Epoch 6/10\n",
      "48000/48000 [==============================] - 111s 2ms/step - loss: 0.2569 - acc: 0.9030 - val_loss: 0.2750 - val_acc: 0.9032\n",
      "Epoch 7/10\n",
      "48000/48000 [==============================] - 113s 2ms/step - loss: 0.2400 - acc: 0.9105 - val_loss: 0.2927 - val_acc: 0.8932\n",
      "Epoch 8/10\n",
      "48000/48000 [==============================] - 113s 2ms/step - loss: 0.2276 - acc: 0.9144 - val_loss: 0.2555 - val_acc: 0.9067\n",
      "Epoch 9/10\n",
      "48000/48000 [==============================] - 162s 3ms/step - loss: 0.2157 - acc: 0.9192 - val_loss: 0.2556 - val_acc: 0.9060\n",
      "Epoch 10/10\n",
      "48000/48000 [==============================] - 206s 4ms/step - loss: 0.2025 - acc: 0.9243 - val_loss: 0.2578 - val_acc: 0.9090\n"
     ]
    },
    {
     "data": {
      "text/plain": [
       "<keras.callbacks.History at 0x22d875b5dd8>"
      ]
     },
     "execution_count": 24,
     "metadata": {},
     "output_type": "execute_result"
    }
   ],
   "source": [
    "model.fit(X_train,Y_train,\n",
    "         batch_size = batch_size,\n",
    "         epochs = epochs,\n",
    "         verbose = 1,\n",
    "         validation_data = (X_val,Y_val))"
   ]
  },
  {
   "cell_type": "code",
   "execution_count": 27,
   "metadata": {},
   "outputs": [
    {
     "name": "stdout",
     "output_type": "stream",
     "text": [
      "Test loss:  0.2612496453523636\n",
      "Test accuracy:  0.9075\n"
     ]
    }
   ],
   "source": [
    "score = model.evaluate(X_test,Y_test,verbose = 0)\n",
    "print('Test loss: ',score[0])\n",
    "print('Test accuracy: ',score[1])"
   ]
  },
  {
   "cell_type": "markdown",
   "metadata": {},
   "source": [
    "### The accuracy(0.9075) is more when we split the dataset in the ratio 8:1:1"
   ]
  },
  {
   "cell_type": "markdown",
   "metadata": {},
   "source": [
    "### Visualize the predictions(Predicting values for the test data)"
   ]
  },
  {
   "cell_type": "code",
   "execution_count": 28,
   "metadata": {},
   "outputs": [
    {
     "data": {
      "text/plain": [
       "array([9, 2, 1, ..., 8, 1, 5], dtype=int64)"
      ]
     },
     "execution_count": 28,
     "metadata": {},
     "output_type": "execute_result"
    }
   ],
   "source": [
    "prediction = model.predict_classes([testX])\n",
    "prediction"
   ]
  },
  {
   "cell_type": "code",
   "execution_count": 29,
   "metadata": {},
   "outputs": [
    {
     "data": {
      "text/plain": [
       "6"
      ]
     },
     "execution_count": 29,
     "metadata": {},
     "output_type": "execute_result"
    }
   ],
   "source": [
    "prediction[1000]"
   ]
  },
  {
   "cell_type": "code",
   "execution_count": 31,
   "metadata": {},
   "outputs": [
    {
     "data": {
      "text/plain": [
       "<matplotlib.image.AxesImage at 0x22d8e77f080>"
      ]
     },
     "execution_count": 31,
     "metadata": {},
     "output_type": "execute_result"
    },
    {
     "data": {
      "image/png": "[encoded data removed]",
      "text/plain": [
       "<Figure size 432x288 with 1 Axes>"
      ]
     },
     "metadata": {
      "needs_background": "light"
     },
     "output_type": "display_data"
    }
   ],
   "source": [
    "plt.imshow(testX[1000].reshape(28,28))"
   ]
  },
  {
   "cell_type": "code",
   "execution_count": 32,
   "metadata": {},
   "outputs": [
    {
     "data": {
      "text/plain": [
       "4"
      ]
     },
     "execution_count": 32,
     "metadata": {},
     "output_type": "execute_result"
    }
   ],
   "source": [
    "prediction[50]"
   ]
  },
  {
   "cell_type": "code",
   "execution_count": 33,
   "metadata": {},
   "outputs": [
    {
     "data": {
      "text/plain": [
       "<matplotlib.image.AxesImage at 0x22d8e7d9208>"
      ]
     },
     "execution_count": 33,
     "metadata": {},
     "output_type": "execute_result"
    },
    {
     "data": {
      "image/png": "[encoded data removed]",
      "text/plain": [
       "<Figure size 432x288 with 1 Axes>"
      ]
     },
     "metadata": {
      "needs_background": "light"
     },
     "output_type": "display_data"
    }
   ],
   "source": [
    "plt.imshow(testX[50].reshape(28,28))"
   ]
  },
  {
   "cell_type": "code",
   "execution_count": 34,
   "metadata": {},
   "outputs": [
    {
     "data": {
      "text/plain": [
       "5"
      ]
     },
     "execution_count": 34,
     "metadata": {},
     "output_type": "execute_result"
    }
   ],
   "source": [
    "prediction[9999]"
   ]
  },
  {
   "cell_type": "code",
   "execution_count": 35,
   "metadata": {},
   "outputs": [
    {
     "data": {
      "text/plain": [
       "<matplotlib.image.AxesImage at 0x22d8e8354a8>"
      ]
     },
     "execution_count": 35,
     "metadata": {},
     "output_type": "execute_result"
    },
    {
     "data": {
      "image/png": "[encoded data removed]",
      "text/plain": [
       "<Figure size 432x288 with 1 Axes>"
      ]
     },
     "metadata": {
      "needs_background": "light"
     },
     "output_type": "display_data"
    }
   ],
   "source": [
    "plt.imshow(testX[9999].reshape(28,28))"
   ]
  },
  {
   "cell_type": "code",
   "execution_count": 36,
   "metadata": {},
   "outputs": [
    {
     "data": {
      "text/plain": [
       "2"
      ]
     },
     "execution_count": 36,
     "metadata": {},
     "output_type": "execute_result"
    }
   ],
   "source": [
    "prediction[6523]"
   ]
  },
  {
   "cell_type": "code",
   "execution_count": 37,
   "metadata": {},
   "outputs": [
    {
     "data": {
      "text/plain": [
       "<matplotlib.image.AxesImage at 0x22d8e8914e0>"
      ]
     },
     "execution_count": 37,
     "metadata": {},
     "output_type": "execute_result"
    },
    {
     "data": {
      "image/png": "[encoded data removed]",
      "text/plain": [
       "<Figure size 432x288 with 1 Axes>"
      ]
     },
     "metadata": {
      "needs_background": "light"
     },
     "output_type": "display_data"
    }
   ],
   "source": [
    "plt.imshow(testX[6523].reshape(28,28))"
   ]
  },
  {
   "cell_type": "markdown",
   "metadata": {},
   "source": [
    "### Writing the data in predictions.pickle"
   ]
  },
  {
   "cell_type": "code",
   "execution_count": 38,
   "metadata": {},
   "outputs": [],
   "source": [
    "with open('predictions.pickle', 'wb') as output_file:\n",
    "    pickle.dump(prediction, output_file)"
   ]
  }
 ],
 "metadata": {
  "kernelspec": {
   "display_name": "Python 3",
   "language": "python",
   "name": "python3"
  },
  "language_info": {
   "codemirror_mode": {
    "name": "ipython",
    "version": 3
   },
   "file_extension": ".py",
   "mimetype": "text/x-python",
   "name": "python",
   "nbconvert_exporter": "python",
   "pygments_lexer": "ipython3",
   "version": "3.6.8"
  }
 },
 "nbformat": 4,
 "nbformat_minor": 2
}
